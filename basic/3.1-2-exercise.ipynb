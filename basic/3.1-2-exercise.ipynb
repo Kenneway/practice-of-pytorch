{
 "cells": [
  {
   "cell_type": "code",
   "execution_count": 6,
   "metadata": {
    "collapsed": true
   },
   "outputs": [],
   "source": [
    "import torch\n",
    "from torch.autograd import Variable"
   ]
  },
  {
   "cell_type": "code",
   "execution_count": 12,
   "metadata": {},
   "outputs": [
    {
     "name": "stdout",
     "output_type": "stream",
     "text": [
      "tensor([19.], grad_fn=<AddBackward0>)\n"
     ]
    }
   ],
   "source": [
    "x = Variable(torch.Tensor([2]), requires_grad=True)\n",
    "z = (x + 2) ** 2 + 3\n",
    "print(z)"
   ]
  },
  {
   "cell_type": "code",
   "execution_count": 13,
   "metadata": {},
   "outputs": [
    {
     "name": "stdout",
     "output_type": "stream",
     "text": [
      "tensor([8.])\n"
     ]
    }
   ],
   "source": [
    "z.backward()\n",
    "print(x.grad)"
   ]
  },
  {
   "cell_type": "code",
   "execution_count": 17,
   "metadata": {},
   "outputs": [],
   "source": [
    "x = Variable(torch.randn(10, 20), requires_grad=True)\n",
    "y = Variable(torch.randn(10, 5), requires_grad=True)\n",
    "w = Variable(torch.randn(20, 5), requires_grad=True)\n",
    "out = torch.mean(y - torch.matmul(x, w))\n",
    "out.backward()"
   ]
  },
  {
   "cell_type": "code",
   "execution_count": 18,
   "metadata": {},
   "outputs": [
    {
     "name": "stdout",
     "output_type": "stream",
     "text": [
      "tensor([[ 0.0335,  0.0035, -0.0182, -0.0300, -0.0223,  0.0536, -0.0077, -0.0568,\n         -0.0042, -0.0575,  0.0162, -0.0175, -0.0638,  0.0564,  0.0106, -0.0327,\n          0.0528,  0.0901, -0.0133, -0.0276],\n        [ 0.0335,  0.0035, -0.0182, -0.0300, -0.0223,  0.0536, -0.0077, -0.0568,\n         -0.0042, -0.0575,  0.0162, -0.0175, -0.0638,  0.0564,  0.0106, -0.0327,\n          0.0528,  0.0901, -0.0133, -0.0276],\n        [ 0.0335,  0.0035, -0.0182, -0.0300, -0.0223,  0.0536, -0.0077, -0.0568,\n         -0.0042, -0.0575,  0.0162, -0.0175, -0.0638,  0.0564,  0.0106, -0.0327,\n          0.0528,  0.0901, -0.0133, -0.0276],\n        [ 0.0335,  0.0035, -0.0182, -0.0300, -0.0223,  0.0536, -0.0077, -0.0568,\n         -0.0042, -0.0575,  0.0162, -0.0175, -0.0638,  0.0564,  0.0106, -0.0327,\n          0.0528,  0.0901, -0.0133, -0.0276],\n        [ 0.0335,  0.0035, -0.0182, -0.0300, -0.0223,  0.0536, -0.0077, -0.0568,\n         -0.0042, -0.0575,  0.0162, -0.0175, -0.0638,  0.0564,  0.0106, -0.0327,\n          0.0528,  0.0901, -0.0133, -0.0276],\n        [ 0.0335,  0.0035, -0.0182, -0.0300, -0.0223,  0.0536, -0.0077, -0.0568,\n         -0.0042, -0.0575,  0.0162, -0.0175, -0.0638,  0.0564,  0.0106, -0.0327,\n          0.0528,  0.0901, -0.0133, -0.0276],\n        [ 0.0335,  0.0035, -0.0182, -0.0300, -0.0223,  0.0536, -0.0077, -0.0568,\n         -0.0042, -0.0575,  0.0162, -0.0175, -0.0638,  0.0564,  0.0106, -0.0327,\n          0.0528,  0.0901, -0.0133, -0.0276],\n        [ 0.0335,  0.0035, -0.0182, -0.0300, -0.0223,  0.0536, -0.0077, -0.0568,\n         -0.0042, -0.0575,  0.0162, -0.0175, -0.0638,  0.0564,  0.0106, -0.0327,\n          0.0528,  0.0901, -0.0133, -0.0276],\n        [ 0.0335,  0.0035, -0.0182, -0.0300, -0.0223,  0.0536, -0.0077, -0.0568,\n         -0.0042, -0.0575,  0.0162, -0.0175, -0.0638,  0.0564,  0.0106, -0.0327,\n          0.0528,  0.0901, -0.0133, -0.0276],\n        [ 0.0335,  0.0035, -0.0182, -0.0300, -0.0223,  0.0536, -0.0077, -0.0568,\n         -0.0042, -0.0575,  0.0162, -0.0175, -0.0638,  0.0564,  0.0106, -0.0327,\n          0.0528,  0.0901, -0.0133, -0.0276]])\n"
     ]
    }
   ],
   "source": [
    "print(x.grad)"
   ]
  },
  {
   "cell_type": "code",
   "execution_count": 19,
   "metadata": {},
   "outputs": [
    {
     "name": "stdout",
     "output_type": "stream",
     "text": [
      "tensor([[0.0200, 0.0200, 0.0200, 0.0200, 0.0200],\n        [0.0200, 0.0200, 0.0200, 0.0200, 0.0200],\n        [0.0200, 0.0200, 0.0200, 0.0200, 0.0200],\n        [0.0200, 0.0200, 0.0200, 0.0200, 0.0200],\n        [0.0200, 0.0200, 0.0200, 0.0200, 0.0200],\n        [0.0200, 0.0200, 0.0200, 0.0200, 0.0200],\n        [0.0200, 0.0200, 0.0200, 0.0200, 0.0200],\n        [0.0200, 0.0200, 0.0200, 0.0200, 0.0200],\n        [0.0200, 0.0200, 0.0200, 0.0200, 0.0200],\n        [0.0200, 0.0200, 0.0200, 0.0200, 0.0200]])\n"
     ]
    }
   ],
   "source": [
    "print(y.grad)"
   ]
  },
  {
   "cell_type": "code",
   "execution_count": 20,
   "metadata": {},
   "outputs": [
    {
     "name": "stdout",
     "output_type": "stream",
     "text": [
      "tensor([[ 0.0490,  0.0490,  0.0490,  0.0490,  0.0490],\n        [ 0.0513,  0.0513,  0.0513,  0.0513,  0.0513],\n        [-0.0975, -0.0975, -0.0975, -0.0975, -0.0975],\n        [ 0.0448,  0.0448,  0.0448,  0.0448,  0.0448],\n        [ 0.0677,  0.0677,  0.0677,  0.0677,  0.0677],\n        [-0.0303, -0.0303, -0.0303, -0.0303, -0.0303],\n        [-0.0340, -0.0340, -0.0340, -0.0340, -0.0340],\n        [ 0.0079,  0.0079,  0.0079,  0.0079,  0.0079],\n        [ 0.0291,  0.0291,  0.0291,  0.0291,  0.0291],\n        [-0.0128, -0.0128, -0.0128, -0.0128, -0.0128],\n        [ 0.0323,  0.0323,  0.0323,  0.0323,  0.0323],\n        [-0.0313, -0.0313, -0.0313, -0.0313, -0.0313],\n        [-0.1609, -0.1609, -0.1609, -0.1609, -0.1609],\n        [-0.1236, -0.1236, -0.1236, -0.1236, -0.1236],\n        [-0.0238, -0.0238, -0.0238, -0.0238, -0.0238],\n        [ 0.0507,  0.0507,  0.0507,  0.0507,  0.0507],\n        [ 0.0587,  0.0587,  0.0587,  0.0587,  0.0587],\n        [ 0.0198,  0.0198,  0.0198,  0.0198,  0.0198],\n        [-0.0304, -0.0304, -0.0304, -0.0304, -0.0304],\n        [ 0.0835,  0.0835,  0.0835,  0.0835,  0.0835]])\n"
     ]
    }
   ],
   "source": [
    "print(w.grad)"
   ]
  },
  {
   "cell_type": "code",
   "execution_count": 37,
   "metadata": {},
   "outputs": [
    {
     "name": "stdout",
     "output_type": "stream",
     "text": [
      "tensor([[2., 3.]], requires_grad=True)\ntensor([[0., 0.]])\n"
     ]
    }
   ],
   "source": [
    "m = Variable(torch.FloatTensor([[2, 3]]), requires_grad=True)  \n",
    "n = Variable(torch.zeros(1, 2))\n",
    "print(m)\n",
    "print(n)"
   ]
  },
  {
   "cell_type": "code",
   "execution_count": 38,
   "metadata": {},
   "outputs": [
    {
     "name": "stdout",
     "output_type": "stream",
     "text": [
      "tensor([[ 4., 27.]], grad_fn=<CopySlices>)\n"
     ]
    }
   ],
   "source": [
    "n[0, 0] = m[0, 0] ** 2\n",
    "n[0, 1] = m[0, 1] ** 3\n",
    "print(n)"
   ]
  },
  {
   "cell_type": "code",
   "execution_count": 39,
   "metadata": {},
   "outputs": [
    {
     "name": "stdout",
     "output_type": "stream",
     "text": [
      "tensor([[ 4., 27.]])\ntensor([[1., 1.]])\n"
     ]
    }
   ],
   "source": [
    "n_like = torch.ones_like(n)\n",
    "n.backward(n_like)\n",
    "print(m.grad)\n",
    "print(n_like)"
   ]
  },
  {
   "cell_type": "code",
   "execution_count": 73,
   "metadata": {},
   "outputs": [
    {
     "name": "stdout",
     "output_type": "stream",
     "text": [
      "tensor([18.], grad_fn=<AddBackward0>)\ntensor([8.])\ntensor([16.])\ntensor([24.])\n"
     ]
    }
   ],
   "source": [
    "x = Variable(torch.FloatTensor([3]), requires_grad=True)\n",
    "y = x ** 2 + x * 2 + 3\n",
    "print(y)\n",
    "\n",
    "y.backward(retain_graph=True)\n",
    "print(x.grad)\n",
    "\n",
    "y.backward(retain_graph=True)\n",
    "print(x.grad)\n",
    "\n",
    "y.backward(retain_graph=True)\n",
    "print(x.grad)"
   ]
  },
  {
   "cell_type": "code",
   "execution_count": 74,
   "metadata": {},
   "outputs": [
    {
     "name": "stdout",
     "output_type": "stream",
     "text": [
      "tensor([13., 13.], grad_fn=<CopySlices>)\n"
     ]
    }
   ],
   "source": [
    "x = Variable(torch.FloatTensor([2, 3]), requires_grad=True)\n",
    "k = Variable(torch.zeros(2))\n",
    "\n",
    "k[0] = x[0] ** 2 + 3 * x[1]\n",
    "k[1] = x[1] ** 2 + 2 * x[0]\n",
    "print(k)"
   ]
  },
  {
   "cell_type": "code",
   "execution_count": 75,
   "metadata": {},
   "outputs": [
    {
     "name": "stdout",
     "output_type": "stream",
     "text": [
      "tensor([4., 3.])\ntensor([2., 6.])\n"
     ]
    }
   ],
   "source": [
    "k.backward(torch.FloatTensor([1, 0]), retain_graph=True)\n",
    "print(x.grad.data)\n",
    "\n",
    "x.grad.data.zero_()\n",
    "\n",
    "k.backward(torch.FloatTensor([0, 1]))\n",
    "print(x.grad.data)"
   ]
  },
  {
   "cell_type": "code",
   "execution_count": null,
   "metadata": {},
   "outputs": [],
   "source": []
  }
 ],
 "metadata": {
  "kernelspec": {
   "display_name": "Python 2",
   "language": "python",
   "name": "python2"
  },
  "language_info": {
   "codemirror_mode": {
    "name": "ipython",
    "version": 2
   },
   "file_extension": ".py",
   "mimetype": "text/x-python",
   "name": "python",
   "nbconvert_exporter": "python",
   "pygments_lexer": "ipython2",
   "version": "2.7.6"
  }
 },
 "nbformat": 4,
 "nbformat_minor": 0
}
