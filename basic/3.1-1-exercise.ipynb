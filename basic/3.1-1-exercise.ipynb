{
 "cells": [
  {
   "cell_type": "code",
   "execution_count": 2,
   "metadata": {
    "collapsed": true
   },
   "outputs": [],
   "source": [
    "import torch as th\n",
    "import numpy as np"
   ]
  },
  {
   "cell_type": "code",
   "execution_count": 7,
   "metadata": {},
   "outputs": [
    {
     "name": "stdout",
     "output_type": "stream",
     "text": [
      "[[ 2.31565013 -1.44083642 -2.67999428 -0.75363542]\n [ 0.19979946  0.27904577  2.2116347  -0.5358882 ]\n [-1.4486618   0.03577184 -1.97837719  0.2670395 ]]\n"
     ]
    }
   ],
   "source": [
    "numpy_tensor = np.random.randn(3, 4)\n",
    "print(numpy_tensor)"
   ]
  },
  {
   "cell_type": "code",
   "execution_count": 8,
   "metadata": {},
   "outputs": [
    {
     "name": "stdout",
     "output_type": "stream",
     "text": [
      "tensor([[ 2.3157, -1.4408, -2.6800, -0.7536],\n        [ 0.1998,  0.2790,  2.2116, -0.5359],\n        [-1.4487,  0.0358, -1.9784,  0.2670]])\ntensor([[ 2.3157, -1.4408, -2.6800, -0.7536],\n        [ 0.1998,  0.2790,  2.2116, -0.5359],\n        [-1.4487,  0.0358, -1.9784,  0.2670]], dtype=torch.float64)\n"
     ]
    }
   ],
   "source": [
    "pytorch_tensor1 = th.Tensor(numpy_tensor)\n",
    "print(pytorch_tensor1)\n",
    "pytorch_tensor2 = th.from_numpy(numpy_tensor)\n",
    "print(pytorch_tensor2)"
   ]
  },
  {
   "cell_type": "code",
   "execution_count": 11,
   "metadata": {},
   "outputs": [
    {
     "name": "stdout",
     "output_type": "stream",
     "text": [
      "[[ 2.3156502  -1.4408364  -2.6799943  -0.7536354 ]\n [ 0.19979946  0.27904576  2.2116346  -0.5358882 ]\n [-1.4486618   0.03577184 -1.9783772   0.2670395 ]]\n[[ 2.31565013 -1.44083642 -2.67999428 -0.75363542]\n [ 0.19979946  0.27904577  2.2116347  -0.5358882 ]\n [-1.4486618   0.03577184 -1.97837719  0.2670395 ]]\n"
     ]
    }
   ],
   "source": [
    "numpy_array1 = pytorch_tensor1.numpy()\n",
    "print(numpy_array1)\n",
    "numpy_array2 = pytorch_tensor2.cpu().numpy()\n",
    "print(numpy_array2)"
   ]
  },
  {
   "cell_type": "code",
   "execution_count": 12,
   "metadata": {},
   "outputs": [
    {
     "name": "stdout",
     "output_type": "stream",
     "text": [
      "tensor([[-0.3173, -0.6256,  0.5689,  1.0524],\n        [-0.9737,  1.0789,  0.6140, -0.4428],\n        [-1.0902, -1.5848,  0.0636, -0.7079]], device='cuda:0')\n"
     ]
    }
   ],
   "source": [
    "dtype = th.cuda.FloatTensor\n",
    "gpu_tensor = th.randn(3, 4).type(dtype)\n",
    "print(gpu_tensor)"
   ]
  },
  {
   "cell_type": "code",
   "execution_count": 13,
   "metadata": {},
   "outputs": [
    {
     "name": "stdout",
     "output_type": "stream",
     "text": [
      "tensor([[ 0.7691,  0.4299, -0.5777,  1.3257],\n        [ 0.0773,  1.4768, -0.5321, -2.7525],\n        [ 1.4420,  0.1940,  1.1308,  0.6300]], device='cuda:0')\n"
     ]
    }
   ],
   "source": [
    "gpu_tensor = th.randn(3, 4).cuda(0)\n",
    "print(gpu_tensor)"
   ]
  },
  {
   "cell_type": "code",
   "execution_count": 15,
   "metadata": {},
   "outputs": [
    {
     "name": "stdout",
     "output_type": "stream",
     "text": [
      "tensor([[ 0.7691,  0.4299, -0.5777,  1.3257],\n        [ 0.0773,  1.4768, -0.5321, -2.7525],\n        [ 1.4420,  0.1940,  1.1308,  0.6300]])\n"
     ]
    }
   ],
   "source": [
    "cpu_tensor = gpu_tensor.cpu()\n",
    "print(cpu_tensor)"
   ]
  },
  {
   "cell_type": "code",
   "execution_count": 26,
   "metadata": {},
   "outputs": [
    {
     "name": "stdout",
     "output_type": "stream",
     "text": [
      "torch.Size([3, 4])\ntorch.Size([3, 4])\ntorch.DoubleTensor\n2\n12\n"
     ]
    }
   ],
   "source": [
    "print(pytorch_tensor2.shape)\n",
    "print(pytorch_tensor2.size())\n",
    "print(pytorch_tensor2.type())\n",
    "print(pytorch_tensor2.dim())\n",
    "print(pytorch_tensor2.numel())"
   ]
  },
  {
   "cell_type": "code",
   "execution_count": 28,
   "metadata": {},
   "outputs": [
    {
     "name": "stdout",
     "output_type": "stream",
     "text": [
      "torch.DoubleTensor\nfloat64\n"
     ]
    }
   ],
   "source": [
    "x = th.randn(3,2)\n",
    "x = x.type(th.DoubleTensor)\n",
    "print(x.type())\n",
    "x_array = x.numpy()\n",
    "print(x_array.dtype)"
   ]
  },
  {
   "cell_type": "code",
   "execution_count": 33,
   "metadata": {},
   "outputs": [
    {
     "name": "stdout",
     "output_type": "stream",
     "text": [
      "tensor([[1., 1.],\n        [1., 1.]])\ntorch.FloatTensor\ntensor([[1, 1],\n        [1, 1]])\ntorch.LongTensor\ntensor([[1., 1.],\n        [1., 1.]])\ntorch.FloatTensor\n"
     ]
    }
   ],
   "source": [
    "x = th.ones(2, 2)\n",
    "print(x)\n",
    "print(x.type())\n",
    "\n",
    "x = x.long()\n",
    "print(x)\n",
    "print(x.type())\n",
    "\n",
    "x = x.float()\n",
    "print(x)\n",
    "print(x.type())"
   ]
  },
  {
   "cell_type": "code",
   "execution_count": 42,
   "metadata": {},
   "outputs": [
    {
     "name": "stdout",
     "output_type": "stream",
     "text": [
      "tensor([[-0.4746,  0.0860, -2.2035],\n        [-0.3266, -0.1705,  0.5660],\n        [-0.1565, -0.8867, -1.2315],\n        [ 0.9365, -0.6200,  0.1826]])\ntensor([ 0.0860,  0.5660, -0.1565,  0.9365])\ntensor([1, 2, 0, 0])\ntensor([-0.0212, -1.5912, -2.6865])\n"
     ]
    }
   ],
   "source": [
    "x = th.randn(4, 3)\n",
    "print(x)\n",
    "\n",
    "max_value, max_idx = th.max(x, dim=1)\n",
    "print(max_value)\n",
    "print(max_idx)\n",
    "\n",
    "sum_x = th.sum(x, dim=0)\n",
    "print(sum_x)"
   ]
  },
  {
   "cell_type": "code",
   "execution_count": 73,
   "metadata": {},
   "outputs": [
    {
     "name": "stdout",
     "output_type": "stream",
     "text": [
      "torch.Size([4, 3])\ntorch.Size([4, 3])\n"
     ]
    }
   ],
   "source": [
    "print(x.shape)\n",
    "# x = x.unsqueeze(1)\n",
    "x = x.squeeze(1)\n",
    "print(x.shape)\n"
   ]
  },
  {
   "cell_type": "code",
   "execution_count": 79,
   "metadata": {},
   "outputs": [
    {
     "name": "stdout",
     "output_type": "stream",
     "text": [
      "torch.Size([3, 4, 5])\ntorch.Size([5, 4, 3])\ntorch.Size([4, 5, 3])\n"
     ]
    }
   ],
   "source": [
    "x = th.randn(3, 4, 5)\n",
    "print(x.shape)\n",
    "# print(x)\n",
    "\n",
    "x = x.permute(2, 1, 0)\n",
    "print(x.shape)\n",
    "# print(x)\n",
    "\n",
    "x = x.transpose(0, 1)\n",
    "print(x.shape)"
   ]
  },
  {
   "cell_type": "code",
   "execution_count": 82,
   "metadata": {},
   "outputs": [
    {
     "name": "stdout",
     "output_type": "stream",
     "text": [
      "torch.Size([3, 4, 5])\ntorch.Size([2, 6, 5])\n"
     ]
    }
   ],
   "source": [
    "x = th.randn(3, 4, 5)\n",
    "print(x.shape)\n",
    "x = x.view(2, -1, 5)\n",
    "print(x.shape"
   ]
  },
  {
   "cell_type": "code",
   "execution_count": 84,
   "metadata": {},
   "outputs": [
    {
     "name": "stdout",
     "output_type": "stream",
     "text": [
      "tensor([[-1.7077, -1.0073,  0.8333, -0.6968],\n        [-1.1122,  1.0136,  1.1405, -0.2236],\n        [ 0.0703,  0.7741, -0.3079,  0.5060]])\ntensor([[-0.4766, -1.7140, -0.9178,  0.8531],\n        [-1.1595,  0.3023, -0.0708, -0.9196],\n        [-0.3451, -0.9875,  0.9902,  1.1159]])\ntensor([[-2.1843, -2.7213, -0.0845,  0.1563],\n        [-2.2718,  1.3159,  1.0696, -1.1432],\n        [-0.2748, -0.2133,  0.6823,  1.6218]])\ntensor([[ 0.8138,  1.7266, -0.7648, -0.5944],\n        [ 1.2897,  0.3064, -0.0808,  0.2056],\n        [-0.0243, -0.7644, -0.3048,  0.5646]])\n"
     ]
    }
   ],
   "source": [
    "x = th.randn(3, 4)\n",
    "print(x)\n",
    "y = th.randn(3, 4)\n",
    "print(y)\n",
    "z = x + y\n",
    "print(z)\n",
    "xy = x * y\n",
    "print(xy)\n",
    "\n",
    "\n"
   ]
  },
  {
   "cell_type": "code",
   "execution_count": 85,
   "metadata": {},
   "outputs": [
    {
     "name": "stdout",
     "output_type": "stream",
     "text": [
      "tensor([[1., 1., 1., 1.],\n        [1., 2., 2., 1.],\n        [1., 2., 2., 1.],\n        [1., 1., 1., 1.]])\n"
     ]
    }
   ],
   "source": [
    "x = th.ones(4, 4).float()\n",
    "x[1:3, 1:3] = 2\n",
    "print(x)"
   ]
  },
  {
   "cell_type": "code",
   "execution_count": 87,
   "metadata": {},
   "outputs": [],
   "source": [
    "from torch.autograd import Variable"
   ]
  },
  {
   "cell_type": "code",
   "execution_count": 89,
   "metadata": {},
   "outputs": [
    {
     "name": "stdout",
     "output_type": "stream",
     "text": [
      "tensor(-19.5824)\n<SumBackward0 object at 0x7f04670ad518>\n"
     ]
    }
   ],
   "source": [
    "x_tensor = th.randn(10, 5)\n",
    "y_tensor = th.randn(10, 5)\n",
    "\n",
    "x = Variable(x_tensor, requires_grad=True)\n",
    "y = Variable(y_tensor, requires_grad=True)\n",
    "\n",
    "z = th.sum(x + y)\n",
    "print(z.data)\n",
    "print(z.grad_fn)\n",
    "\n"
   ]
  },
  {
   "cell_type": "code",
   "execution_count": 90,
   "metadata": {},
   "outputs": [
    {
     "name": "stdout",
     "output_type": "stream",
     "text": [
      "tensor([[1., 1., 1., 1., 1.],\n        [1., 1., 1., 1., 1.],\n        [1., 1., 1., 1., 1.],\n        [1., 1., 1., 1., 1.],\n        [1., 1., 1., 1., 1.],\n        [1., 1., 1., 1., 1.],\n        [1., 1., 1., 1., 1.],\n        [1., 1., 1., 1., 1.],\n        [1., 1., 1., 1., 1.],\n        [1., 1., 1., 1., 1.]])\ntensor([[1., 1., 1., 1., 1.],\n        [1., 1., 1., 1., 1.],\n        [1., 1., 1., 1., 1.],\n        [1., 1., 1., 1., 1.],\n        [1., 1., 1., 1., 1.],\n        [1., 1., 1., 1., 1.],\n        [1., 1., 1., 1., 1.],\n        [1., 1., 1., 1., 1.],\n        [1., 1., 1., 1., 1.],\n        [1., 1., 1., 1., 1.]])\n"
     ]
    }
   ],
   "source": [
    "z.backward()\n",
    "\n",
    "print(x.grad)\n",
    "print(y.grad)"
   ]
  },
  {
   "cell_type": "code",
   "execution_count": 91,
   "metadata": {},
   "outputs": [
    {
     "data": {
      "image/png": "[encoded data removed]",
      "text/plain": [
       "<Figure size 432x288 with 1 Axes>"
      ]
     },
     "metadata": {},
     "output_type": "display_data"
    }
   ],
   "source": [
    "import matplotlib.pyplot as plt\n",
    "x = np.arange(-3, 3.01, 0.1)\n",
    "y = x ** 2\n",
    "plt.plot(x, y)\n",
    "plt.plot(2, 4, 'ro')\n",
    "plt.show()"
   ]
  },
  {
   "cell_type": "code",
   "execution_count": 96,
   "metadata": {},
   "outputs": [
    {
     "name": "stdout",
     "output_type": "stream",
     "text": [
      "tensor([108.])\n"
     ]
    }
   ],
   "source": [
    "x = Variable(th.FloatTensor([6]), requires_grad=True)\n",
    "y = x ** 3\n",
    "y.backward()\n",
    "print(x.grad)"
   ]
  },
  {
   "cell_type": "code",
   "execution_count": null,
   "metadata": {},
   "outputs": [],
   "source": []
  }
 ],
 "metadata": {
  "kernelspec": {
   "display_name": "Python 2",
   "language": "python",
   "name": "python2"
  },
  "language_info": {
   "codemirror_mode": {
    "name": "ipython",
    "version": 2
   },
   "file_extension": ".py",
   "mimetype": "text/x-python",
   "name": "python",
   "nbconvert_exporter": "python",
   "pygments_lexer": "ipython2",
   "version": "2.7.6"
  }
 },
 "nbformat": 4,
 "nbformat_minor": 0
}
